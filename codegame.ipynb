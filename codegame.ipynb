{
 "cells": [
  {
   "cell_type": "code",
   "execution_count": 1,
   "id": "cbecaf94",
   "metadata": {},
   "outputs": [
    {
     "name": "stdout",
     "output_type": "stream",
     "text": [
      "['bhattarai', 'bachelor']\n"
     ]
    }
   ],
   "source": [
    "suman=[\"bhattarai\",\"bachelor\"]\n",
    "print(suman)"
   ]
  },
  {
   "cell_type": "code",
   "execution_count": null,
   "id": "e129131b",
   "metadata": {},
   "outputs": [],
   "source": [
    "# this is the first code for game\n"
   ]
  }
 ],
 "metadata": {
  "kernelspec": {
   "display_name": "my_venv",
   "language": "python",
   "name": "python3"
  },
  "language_info": {
   "codemirror_mode": {
    "name": "ipython",
    "version": 3
   },
   "file_extension": ".py",
   "mimetype": "text/x-python",
   "name": "python",
   "nbconvert_exporter": "python",
   "pygments_lexer": "ipython3",
   "version": "3.13.3"
  }
 },
 "nbformat": 4,
 "nbformat_minor": 5
}
